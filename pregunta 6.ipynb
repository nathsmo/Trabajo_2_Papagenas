{
 "cells": [
  {
   "cell_type": "markdown",
   "metadata": {},
   "source": [
    "# pregunta 6"
   ]
  },
  {
   "cell_type": "code",
   "execution_count": 2,
   "metadata": {
    "collapsed": false
   },
   "outputs": [
    {
     "data": {
      "text/plain": [
       "state\n",
       "AL    6.553547\n",
       "AR    6.666667\n",
       "CO    6.895198\n",
       "CT    6.824048\n",
       "DC    6.940741\n",
       "DE    6.869347\n",
       "FL    7.277439\n",
       "GA    6.930709\n",
       "IA    6.596517\n",
       "ID    6.865169\n",
       "IN    6.747133\n",
       "KS    6.501746\n",
       "KY    6.796117\n",
       "MD    6.736855\n",
       "ME    6.726014\n",
       "MO    6.912925\n",
       "MS    6.846743\n",
       "MT    6.985325\n",
       "ND    6.510471\n",
       "NE    6.369388\n",
       "NH    7.031690\n",
       "NM    6.790000\n",
       "NV    7.281677\n",
       "NY    6.707196\n",
       "OH    6.683223\n",
       "OK    6.811172\n",
       "OR    6.836661\n",
       "PA    6.777281\n",
       "RI    6.705011\n",
       "SD    6.195122\n",
       "TN    6.819518\n",
       "UT    7.050428\n",
       "WA    7.045594\n",
       "WI    6.530705\n",
       "WV    6.478205\n",
       "WY    7.006024\n",
       "Name: shopping_pt, dtype: float64"
      ]
     },
     "execution_count": 2,
     "metadata": {},
     "output_type": "execute_result"
    }
   ],
   "source": [
    "import pandas as pd\n",
    "import numpy as np\n",
    "import seaborn as sns\n",
    "import matplotlib.pyplot as plt\n",
    "\n",
    "allstate = pd.read_csv('allstate.csv')\n",
    "\n",
    "bystate = allstate[allstate.record_type==1].groupby(\"state\")\n",
    "bystate.shopping_pt.mean()\n",
    "bystate.shopping_pt.mean().min()\n",
    "bystate.shopping_pt.mean()"
   ]
  },
  {
   "cell_type": "markdown",
   "metadata": {},
   "source": [
    "SOuth Dakota"
   ]
  }
 ],
 "metadata": {
  "kernelspec": {
   "display_name": "Python 2",
   "language": "python",
   "name": "python2"
  },
  "language_info": {
   "codemirror_mode": {
    "name": "ipython",
    "version": 2
   },
   "file_extension": ".py",
   "mimetype": "text/x-python",
   "name": "python",
   "nbconvert_exporter": "python",
   "pygments_lexer": "ipython2",
   "version": "2.7.11"
  }
 },
 "nbformat": 4,
 "nbformat_minor": 0
}
