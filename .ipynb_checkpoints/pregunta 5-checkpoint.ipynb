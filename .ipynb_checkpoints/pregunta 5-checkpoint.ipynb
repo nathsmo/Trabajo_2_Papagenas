{
 "cells": [
  {
   "cell_type": "code",
   "execution_count": 1,
   "metadata": {
    "collapsed": true
   },
   "outputs": [],
   "source": [
    "import pandas as pd\n",
    "import seaborn as sns\n",
    "import matplotlib.pyplot as plt\n",
    "\n",
    "allstate = pd.read_csv('allstate.csv')"
   ]
  },
  {
   "cell_type": "code",
   "execution_count": 2,
   "metadata": {
    "collapsed": false
   },
   "outputs": [],
   "source": [
    "def CDF( k ):\n",
    "  \n",
    "    edadk = k;\n",
    "    info=allstate[allstate['age_oldest']==edadk]\n",
    "    totales=sum(allstate['record_type']==1)\n",
    "    comprak=sum(info['record_type']==1)\n",
    "    probabilidadk=((comprak/1.0)/(totales/1.0))*100\n",
    "\n",
    "    info2=allstate[allstate['age_youngest']==edadk]\n",
    "    comprak2=sum(info2['record_type']==1)\n",
    "    probabilidadk2=((comprak2/1.0)/(totales/1.0))*100\n",
    "\n",
    "    probabilidadtotal=probabilidadk+probabilidadk2;\n",
    "\n",
    "    return(\"probabilidad de que alguien de edad \"+ str(edadk) +\" años compre un seguro es de \"+ str(probabilidadtotal)[0:4] + \"%\")"
   ]
  },
  {
   "cell_type": "code",
   "execution_count": 5,
   "metadata": {
    "collapsed": false
   },
   "outputs": [
    {
     "name": "stdout",
     "output_type": "stream",
     "text": [
      "de que edad desea obtener resultados?23\n",
      "probabilidad de que alguien de edad 23 años compre un seguro es de 6.76%\n"
     ]
    }
   ],
   "source": [
    "x = input(\"de que edad desea obtener resultados?\")\n",
    "print CDF(x)"
   ]
  },
  {
   "cell_type": "code",
   "execution_count": null,
   "metadata": {
    "collapsed": true
   },
   "outputs": [],
   "source": []
  },
  {
   "cell_type": "code",
   "execution_count": null,
   "metadata": {
    "collapsed": true
   },
   "outputs": [],
   "source": []
  }
 ],
 "metadata": {
  "kernelspec": {
   "display_name": "Python 2",
   "language": "python",
   "name": "python2"
  },
  "language_info": {
   "codemirror_mode": {
    "name": "ipython",
    "version": 2
   },
   "file_extension": ".py",
   "mimetype": "text/x-python",
   "name": "python",
   "nbconvert_exporter": "python",
   "pygments_lexer": "ipython2",
   "version": "2.7.11"
  }
 },
 "nbformat": 4,
 "nbformat_minor": 0
}
