{
 "cells": [
  {
   "cell_type": "markdown",
   "metadata": {},
   "source": [
    "# Pregunta 3"
   ]
  },
  {
   "cell_type": "markdown",
   "metadata": {},
   "source": [
    "## Basados en la edad del más joven. ¿Que grupo tiene mayor probabilidad de comprar un seguro?"
   ]
  },
  {
   "cell_type": "code",
   "execution_count": 16,
   "metadata": {
    "collapsed": true
   },
   "outputs": [],
   "source": [
    "import pandas as pd\n",
    "import seaborn as sns\n",
    "import numpy as np \n",
    "from scipy import stats, integrate\n",
    "import matplotlib.pyplot as plt"
   ]
  },
  {
   "cell_type": "code",
   "execution_count": 2,
   "metadata": {
    "collapsed": true
   },
   "outputs": [],
   "source": [
    "users = pd.read_csv('allstate.csv')"
   ]
  },
  {
   "cell_type": "code",
   "execution_count": 3,
   "metadata": {
    "collapsed": true
   },
   "outputs": [],
   "source": [
    "filtro=users.shopping_pt==True"
   ]
  },
  {
   "cell_type": "code",
   "execution_count": 8,
   "metadata": {
    "collapsed": false
   },
   "outputs": [],
   "source": [
    "byage = users.groupby('age_youngest')"
   ]
  },
  {
   "cell_type": "code",
   "execution_count": 10,
   "metadata": {
    "collapsed": false
   },
   "outputs": [
    {
     "data": {
      "text/plain": [
       "age_youngest\n",
       "16     4478\n",
       "17     2967\n",
       "18     5093\n",
       "19    10182\n",
       "20    13480\n",
       "21    17311\n",
       "22    22290\n",
       "23    24208\n",
       "24    23635\n",
       "25    23509\n",
       "26    20510\n",
       "27    17718\n",
       "28    16832\n",
       "29    14437\n",
       "30    13807\n",
       "31    12961\n",
       "32    12520\n",
       "33    12118\n",
       "34    11466\n",
       "35    11080\n",
       "36     9904\n",
       "37     9825\n",
       "38     9568\n",
       "39     9085\n",
       "40     9365\n",
       "41     9533\n",
       "42    10200\n",
       "43    10117\n",
       "44     9291\n",
       "45     9380\n",
       "46     9743\n",
       "47     8931\n",
       "48     9829\n",
       "49     9674\n",
       "50     9510\n",
       "51     9713\n",
       "52    10026\n",
       "53     9803\n",
       "54     9511\n",
       "55    10298\n",
       "56     9581\n",
       "57     9120\n",
       "58     9673\n",
       "59     8901\n",
       "60     8859\n",
       "61     8697\n",
       "62     8707\n",
       "63     8606\n",
       "64     8591\n",
       "65     9142\n",
       "66     8800\n",
       "67     6187\n",
       "68     6397\n",
       "69     6987\n",
       "70     7295\n",
       "71     6102\n",
       "72     5234\n",
       "73     5152\n",
       "74     5048\n",
       "75    34262\n",
       "Name: age_youngest, dtype: int64"
      ]
     },
     "execution_count": 10,
     "metadata": {},
     "output_type": "execute_result"
    }
   ],
   "source": [
    "byage['age_youngest'].count()"
   ]
  },
  {
   "cell_type": "code",
   "execution_count": 17,
   "metadata": {
    "collapsed": false
   },
   "outputs": [
    {
     "data": {
      "text/plain": [
       "<matplotlib.axes._subplots.AxesSubplot at 0x1291f1b0>"
      ]
     },
     "execution_count": 17,
     "metadata": {},
     "output_type": "execute_result"
    }
   ],
   "source": [
    "sns.distplot(users.age_youngest)"
   ]
  },
  {
   "cell_type": "code",
   "execution_count": 12,
   "metadata": {
    "collapsed": false
   },
   "outputs": [
    {
     "data": {
      "text/plain": [
       "34262"
      ]
     },
     "execution_count": 12,
     "metadata": {},
     "output_type": "execute_result"
    }
   ],
   "source": [
    "a = byage['age_youngest'].count()\n",
    "a.max()"
   ]
  },
  {
   "cell_type": "markdown",
   "metadata": {},
   "source": [
    "La edad que mas compra es a los 75 anios"
   ]
  },
  {
   "cell_type": "markdown",
   "metadata": {},
   "source": [
    "Pero el rango de edades en donde mas se frecuentan los valores de venta mas altos es entre las edades de 20 a treinta. Y para dar un rango mas cerrado se podria decir que de las edades de 21 a 26."
   ]
  }
 ],
 "metadata": {
  "kernelspec": {
   "display_name": "Python 2",
   "language": "python",
   "name": "python2"
  },
  "language_info": {
   "codemirror_mode": {
    "name": "ipython",
    "version": 2
   },
   "file_extension": ".py",
   "mimetype": "text/x-python",
   "name": "python",
   "nbconvert_exporter": "python",
   "pygments_lexer": "ipython2",
   "version": "2.7.11"
  }
 },
 "nbformat": 4,
 "nbformat_minor": 0
}
