{
 "cells": [
  {
   "cell_type": "markdown",
   "metadata": {},
   "source": [
    "# Pregunta 2\n",
    "## ¿Qué tan probable es que se compre un seguro después de la k-ésima cotización?"
   ]
  },
  {
   "cell_type": "code",
   "execution_count": 1,
   "metadata": {
    "collapsed": false
   },
   "outputs": [],
   "source": [
    "import pandas as pd\n",
    "import seaborn as sns\n",
    "import matplotlib.pyplot as plt\n",
    "\n",
    "allstate = pd.read_csv('allstate.csv')\n",
    "\n"
   ]
  },
  {
   "cell_type": "code",
   "execution_count": 2,
   "metadata": {
    "collapsed": false
   },
   "outputs": [
    {
     "name": "stdout",
     "output_type": "stream",
     "text": [
      "que cotización desea?5\n",
      "la probabilidad de comprar despues de la 5cotizacion es: 25.6%\n"
     ]
    }
   ],
   "source": [
    "def CDF( k ):\n",
    "  \n",
    "    kesima = k;\n",
    "    despues=kesima+1;\n",
    "    total= sum (allstate[\"shopping_pt\"]==1)\n",
    "    compran=total-(sum(allstate[\"shopping_pt\"]==despues))\n",
    "    probabilidad=((compran/1.0)/(total/1.0))*100\n",
    "    return(\"la probabilidad de comprar despues de la \"+str(kesima)+\"cotizacion es: \"+ str(probabilidad)[0:4]+\"%\")\n",
    "\n",
    "g = input(\"que cotización desea?\")\n",
    "print CDF(g)"
   ]
  },
  {
   "cell_type": "code",
   "execution_count": null,
   "metadata": {
    "collapsed": true
   },
   "outputs": [],
   "source": []
  },
  {
   "cell_type": "code",
   "execution_count": null,
   "metadata": {
    "collapsed": true
   },
   "outputs": [],
   "source": []
  }
 ],
 "metadata": {
  "kernelspec": {
   "display_name": "Python 2",
   "language": "python",
   "name": "python2"
  },
  "language_info": {
   "codemirror_mode": {
    "name": "ipython",
    "version": 2
   },
   "file_extension": ".py",
   "mimetype": "text/x-python",
   "name": "python",
   "nbconvert_exporter": "python",
   "pygments_lexer": "ipython2",
   "version": "2.7.11"
  }
 },
 "nbformat": 4,
 "nbformat_minor": 0
}
